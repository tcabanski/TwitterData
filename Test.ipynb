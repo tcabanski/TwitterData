{
 "cells": [
  {
   "cell_type": "code",
   "execution_count": 1,
   "id": "dc1d65e8-ecfc-4645-a617-30bd58eae4fe",
   "metadata": {},
   "outputs": [
    {
     "name": "stderr",
     "output_type": "stream",
     "text": [
      "Cloning into 'snscrape'...\n"
     ]
    }
   ],
   "source": [
    "!git clone https://github.com/JustAnotherArchivist/snscrape"
   ]
  },
  {
   "cell_type": "code",
   "execution_count": 2,
   "id": "9e251b62-2409-4897-92b2-21c0b8a359c7",
   "metadata": {},
   "outputs": [
    {
     "name": "stdout",
     "output_type": "stream",
     "text": [
      "Requirement already satisfied: snscrape in c:\\users\\tom\\appdata\\local\\programs\\python\\python310\\lib\\site-packages (0.4.3.20220106)\n",
      "Requirement already satisfied: lxml in c:\\users\\tom\\appdata\\local\\programs\\python\\python310\\lib\\site-packages (from snscrape) (4.8.0)\n",
      "Requirement already satisfied: beautifulsoup4 in c:\\users\\tom\\appdata\\local\\programs\\python\\python310\\lib\\site-packages (from snscrape) (4.10.0)\n",
      "Requirement already satisfied: filelock in c:\\users\\tom\\appdata\\local\\programs\\python\\python310\\lib\\site-packages (from snscrape) (3.6.0)\n",
      "Requirement already satisfied: requests[socks] in c:\\users\\tom\\appdata\\local\\programs\\python\\python310\\lib\\site-packages (from snscrape) (2.27.1)\n",
      "Requirement already satisfied: soupsieve>1.2 in c:\\users\\tom\\appdata\\local\\programs\\python\\python310\\lib\\site-packages (from beautifulsoup4->snscrape) (2.3.1)\n",
      "Requirement already satisfied: charset-normalizer~=2.0.0 in c:\\users\\tom\\appdata\\local\\programs\\python\\python310\\lib\\site-packages (from requests[socks]->snscrape) (2.0.12)\n",
      "Requirement already satisfied: urllib3<1.27,>=1.21.1 in c:\\users\\tom\\appdata\\local\\programs\\python\\python310\\lib\\site-packages (from requests[socks]->snscrape) (1.26.8)\n",
      "Requirement already satisfied: certifi>=2017.4.17 in c:\\users\\tom\\appdata\\local\\programs\\python\\python310\\lib\\site-packages (from requests[socks]->snscrape) (2021.10.8)\n",
      "Requirement already satisfied: idna<4,>=2.5 in c:\\users\\tom\\appdata\\local\\programs\\python\\python310\\lib\\site-packages (from requests[socks]->snscrape) (3.3)\n",
      "Requirement already satisfied: PySocks!=1.5.7,>=1.5.6 in c:\\users\\tom\\appdata\\local\\programs\\python\\python310\\lib\\site-packages (from requests[socks]->snscrape) (1.7.1)\n"
     ]
    }
   ],
   "source": [
    "!pip install snscrape"
   ]
  },
  {
   "cell_type": "code",
   "execution_count": 3,
   "id": "010375e2-2bf1-4505-b076-c87ea530c75f",
   "metadata": {},
   "outputs": [
    {
     "name": "stderr",
     "output_type": "stream",
     "text": [
      "usage: snscrape [-h] [--version] [--citation] [-v] [--dump-locals] [--retry N]\n",
      "                [-n N] [-f FORMAT | --jsonl] [--with-entity]\n",
      "                [--since DATETIME] [--progress]\n",
      "                SCRAPER ...\n",
      "snscrape: error: the following arguments are required: SCRAPER\n"
     ]
    }
   ],
   "source": [
    "!snscrape "
   ]
  }
 ],
 "metadata": {
  "kernelspec": {
   "display_name": "Python 3 (ipykernel)",
   "language": "python",
   "name": "python3"
  },
  "language_info": {
   "codemirror_mode": {
    "name": "ipython",
    "version": 3
   },
   "file_extension": ".py",
   "mimetype": "text/x-python",
   "name": "python",
   "nbconvert_exporter": "python",
   "pygments_lexer": "ipython3",
   "version": "3.10.2"
  }
 },
 "nbformat": 4,
 "nbformat_minor": 5
}
