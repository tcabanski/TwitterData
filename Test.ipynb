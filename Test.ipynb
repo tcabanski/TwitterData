{
 "cells": [
  {
   "cell_type": "markdown",
   "id": "291b76f7-1817-41e3-920e-6e9720d528ba",
   "metadata": {},
   "source": [
    "__Initialization__\n",
    "\n",
    "---------------- Only run once on the machine to get things configured -------------------\n"
   ]
  },
  {
   "cell_type": "code",
   "execution_count": null,
   "id": "dc1d65e8-ecfc-4645-a617-30bd58eae4fe",
   "metadata": {},
   "outputs": [],
   "source": [
    "!echo \"This could take awhile. Status at bottom will show idle when done.\"\n",
    "!git clone https://github.com/JustAnotherArchivist/snscrape\n",
    "!echo done"
   ]
  },
  {
   "cell_type": "code",
   "execution_count": null,
   "id": "9e251b62-2409-4897-92b2-21c0b8a359c7",
   "metadata": {},
   "outputs": [],
   "source": [
    "!echo \"This could take awhile. Status at bottom will show idle when done.\"\n",
    "!pip install snscrape\n",
    "!pip install pandas\n",
    "!pip install seaborn\n",
    "!echo done"
   ]
  },
  {
   "cell_type": "markdown",
   "id": "fcf3f043-4c2c-4ddb-a301-71f6947862d8",
   "metadata": {},
   "source": [
    "---------------------------- Below here can be run multiple times --------------------------------"
   ]
  },
  {
   "cell_type": "markdown",
   "id": "017f454a-00b8-41cf-84b1-baebe543ae4c",
   "metadata": {},
   "source": [
    "__Parse tweets into a Pandas data set__\n",
    "\n",
    "Have to run this before trying to prepare the dataset for plotting or plotting.\n",
    "\n",
    "Parameters\n",
    "\n",
    "* Set displayMaxRows to None (displayMaxRows = None) to show all rows or use a number, like 10, to limit ouput (displayMaxRows = 10)\n",
    "* Set maxResults to None if you want all tweets or limit by setting a number\n",
    "* Set since to None for all dates or use YYYY-MM-DD format to get all tweets since that date"
   ]
  },
  {
   "cell_type": "code",
   "execution_count": null,
   "id": "ed7ea712-f327-41da-a726-d292d476de51",
   "metadata": {},
   "outputs": [],
   "source": [
    "import json\n",
    "import pandas\n",
    "\n",
    "# Parameters\n",
    "displayMaxRows = 10\n",
    "maxResults = None\n",
    "since = \"2020-01-01\"\n",
    "twitterUser = \"atrupar\"\n",
    "\n",
    "temp = []\n",
    "\n",
    "if maxResults is None:\n",
    "    maxResultsParam = \"\"\n",
    "else:\n",
    "    maxResultsParam = f\"--max-results {maxResults}\"\n",
    "    \n",
    "if since is None:\n",
    "    sinceParam = \"\"\n",
    "else:\n",
    "    sinceParam = f\"--since {since}\"\n",
    "    \n",
    "print(f\"Running: snscrape {maxResultsParam} --jsonl {sinceParam} twitter-user {twitterUser}\")\n",
    "print(\"This can take awhile. The status bar at the bottom of the screen will say Busy until this is done.\")\n",
    "\n",
    "results  = !snscrape {maxResultsParam} --jsonl {sinceParam} twitter-user {twitterUser}\n",
    "\n",
    "print(\"Done scraping Twitter\")\n",
    "\n",
    "for json_str in results:\n",
    "    result = json.loads(json_str)\n",
    "    \n",
    "    isVideo = False\n",
    "    isImage = False\n",
    "    mediaType = \"None\"\n",
    "    views = 0\n",
    "    media = result[\"media\"]\n",
    "    if (media is None) == False and len(media) > 0:\n",
    "        if media[0][\"_type\"] == \"snscrape.modules.twitter.Photo\":\n",
    "            isImage = True\n",
    "            mediaType = \"Image\"\n",
    "        elif media[0][\"_type\"] == \"snscrape.modules.twitter.Video\":\n",
    "            isVideo = True\n",
    "            mediaType = \"Video\"\n",
    "            views = media[0][\"views\"]\n",
    "            \n",
    "    totalEngagement =  result[\"replyCount\"] + result[\"retweetCount\"] + result[\"likeCount\"] + result[\"quoteCount\"]\n",
    "    totalEnagementWithVideoViews = totalEngagement + views\n",
    "        \n",
    "    record = {\n",
    "        \"TweetId\": result[\"id\"],\n",
    "        \"TweetDate\": result[\"date\"],\n",
    "        \"Replies\": result[\"replyCount\"],\n",
    "        \"Retweets\": result[\"retweetCount\"],\n",
    "        \"Likes\": result[\"likeCount\"],\n",
    "        \"Quotes\": result[\"quoteCount\"],\n",
    "        \"Source\": result[\"sourceLabel\"],\n",
    "        \"IsVideo\": isVideo,\n",
    "        \"IsImage\": isImage,\n",
    "        \"VideoViews\": views,\n",
    "        \"MediaType\": mediaType,\n",
    "        \"TotalEngagement\":totalEngagement,\n",
    "        \"TotalEngagementWithVideoViews\":totalEnagementWithVideoViews\n",
    "    }\n",
    "    \n",
    "    temp.append(record)\n",
    "\n",
    "output = pandas.DataFrame(temp)\n",
    "\n",
    "with pandas.option_context('display.max_rows', displayMaxRows,):\n",
    "    display(output)"
   ]
  },
  {
   "cell_type": "markdown",
   "id": "72ff49f4-3746-4328-92b4-7484b7fce091",
   "metadata": {},
   "source": [
    "Output the tweet data to a CSV"
   ]
  },
  {
   "cell_type": "code",
   "execution_count": null,
   "id": "33fd0963-825b-4818-afd8-19ec596e85ba",
   "metadata": {},
   "outputs": [],
   "source": [
    "fileName=\"output.csv\"\n",
    "output.to_csv(fileName)\n",
    "print(\"File created\")"
   ]
  },
  {
   "cell_type": "markdown",
   "id": "fac77957-f633-4fba-b0df-954dfb999d70",
   "metadata": {},
   "source": [
    "Prepare the dataset for the scatter plot"
   ]
  },
  {
   "cell_type": "code",
   "execution_count": null,
   "id": "e41d2592-446b-47c4-8bbb-3fc3ee9b639a",
   "metadata": {},
   "outputs": [],
   "source": [
    "output['TweetDate'] = pandas.to_datetime(output['TweetDate'])\n",
    "output = output.groupby(['MediaType', pandas.Grouper(key='TweetDate', freq='W-MON')]).agg({'TotalEngagement':'sum','TotalEngagementWithVideoViews':'sum'}).reset_index().sort_values('TweetDate')\n",
    "with pandas.option_context('display.max_rows', displayMaxRows,):\n",
    "    display(output)"
   ]
  },
  {
   "cell_type": "markdown",
   "id": "21963f6e-1d43-4f7f-aa7c-4d4658678baa",
   "metadata": {},
   "source": [
    "Basic scatter plot"
   ]
  },
  {
   "cell_type": "code",
   "execution_count": null,
   "id": "de4d895f-1301-4722-9dec-df43d34f040a",
   "metadata": {},
   "outputs": [],
   "source": [
    "import seaborn\n",
    "import matplotlib.pyplot as plt\n",
    " \n",
    "seaborn.set(style='whitegrid')\n",
    "plt.figure(figsize=(20, 5))\n",
    " \n",
    "scatter = seaborn.scatterplot(x=\"TweetDate\", y=\"TotalEngagement\", hue = \"MediaType\", data=output)\n",
    "plt.legend(loc='upper right', bbox_to_anchor=(1.2, 1))"
   ]
  },
  {
   "cell_type": "markdown",
   "id": "13cc0674-9670-4c20-b544-bd05d1f57135",
   "metadata": {},
   "source": [
    "Scatter plt with log scale on Y"
   ]
  },
  {
   "cell_type": "code",
   "execution_count": null,
   "id": "761daa91-0f7d-44cb-8a1b-965181ba7fbc",
   "metadata": {},
   "outputs": [],
   "source": [
    "import seaborn\n",
    "import matplotlib.pyplot as plt\n",
    " \n",
    "seaborn.set(style='whitegrid')\n",
    "plt.figure(figsize=(20, 5))\n",
    " \n",
    "scatter = seaborn.scatterplot(x=\"TweetDate\", y=\"TotalEngagement\", hue = \"MediaType\", data=output)\n",
    "scatter.set(yscale='log')\n",
    "plt.legend(loc='upper right', bbox_to_anchor=(1.2, 1))"
   ]
  },
  {
   "cell_type": "markdown",
   "id": "4dee6a69-4440-462e-a487-5a5571f770e1",
   "metadata": {},
   "source": [
    "Let's add in video views and use a log scale"
   ]
  },
  {
   "cell_type": "code",
   "execution_count": null,
   "id": "2519aaf7-e551-40a6-a94d-f7d5dc40c340",
   "metadata": {},
   "outputs": [],
   "source": [
    "import seaborn\n",
    "import matplotlib.pyplot as plt\n",
    " \n",
    "seaborn.set(style='whitegrid')\n",
    "plt.figure(figsize=(20, 5))\n",
    " \n",
    "scatter = seaborn.scatterplot(x=\"TweetDate\", y=\"TotalEngagementWithVideoViews\", hue = \"MediaType\", data=output)\n",
    "scatter.set(yscale='log')\n",
    "plt.legend(loc='upper right', bbox_to_anchor=(1.2, 1))"
   ]
  }
 ],
 "metadata": {
  "kernelspec": {
   "display_name": "Python 3 (ipykernel)",
   "language": "python",
   "name": "python3"
  },
  "language_info": {
   "codemirror_mode": {
    "name": "ipython",
    "version": 3
   },
   "file_extension": ".py",
   "mimetype": "text/x-python",
   "name": "python",
   "nbconvert_exporter": "python",
   "pygments_lexer": "ipython3",
   "version": "3.10.2"
  }
 },
 "nbformat": 4,
 "nbformat_minor": 5
}
