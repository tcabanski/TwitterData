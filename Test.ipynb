{
 "cells": [
  {
   "cell_type": "markdown",
   "id": "291b76f7-1817-41e3-920e-6e9720d528ba",
   "metadata": {},
   "source": [
    "__Initialization__\n",
    "\n",
    "Only run once on the machine"
   ]
  },
  {
   "cell_type": "code",
   "execution_count": null,
   "id": "dc1d65e8-ecfc-4645-a617-30bd58eae4fe",
   "metadata": {},
   "outputs": [],
   "source": [
    "!git clone https://github.com/JustAnotherArchivist/snscrape"
   ]
  },
  {
   "cell_type": "code",
   "execution_count": null,
   "id": "9e251b62-2409-4897-92b2-21c0b8a359c7",
   "metadata": {},
   "outputs": [],
   "source": [
    "!pip install snscrape"
   ]
  },
  {
   "cell_type": "markdown",
   "id": "fcf3f043-4c2c-4ddb-a301-71f6947862d8",
   "metadata": {},
   "source": [
    "Let's get some data for the twitter handle @thepennyhoarder"
   ]
  },
  {
   "cell_type": "code",
   "execution_count": null,
   "id": "010375e2-2bf1-4505-b076-c87ea530c75f",
   "metadata": {},
   "outputs": [],
   "source": [
    "!snscrape --max-results 100 --jsonl twitter-user SeeFunnyVideo > tweets.jsonl"
   ]
  },
  {
   "cell_type": "markdown",
   "id": "27e0e126-e743-4378-95a6-e887523bd144",
   "metadata": {},
   "source": [
    "Run this command to dump the output.  Not recommended."
   ]
  },
  {
   "cell_type": "code",
   "execution_count": null,
   "id": "5e9fda7b-0139-4fb4-b36e-2a2b59cfe153",
   "metadata": {},
   "outputs": [],
   "source": [
    "more tweets.jsonl"
   ]
  }
 ],
 "metadata": {
  "kernelspec": {
   "display_name": "Python 3 (ipykernel)",
   "language": "python",
   "name": "python3"
  },
  "language_info": {
   "codemirror_mode": {
    "name": "ipython",
    "version": 3
   },
   "file_extension": ".py",
   "mimetype": "text/x-python",
   "name": "python",
   "nbconvert_exporter": "python",
   "pygments_lexer": "ipython3",
   "version": "3.10.2"
  }
 },
 "nbformat": 4,
 "nbformat_minor": 5
}
