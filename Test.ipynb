{
 "cells": [
  {
   "cell_type": "markdown",
   "id": "291b76f7-1817-41e3-920e-6e9720d528ba",
   "metadata": {},
   "source": [
    "__Initialization__\n",
    "\n",
    "Only run once on the machine"
   ]
  },
  {
   "cell_type": "code",
   "execution_count": null,
   "id": "dc1d65e8-ecfc-4645-a617-30bd58eae4fe",
   "metadata": {},
   "outputs": [],
   "source": [
    "!git clone https://github.com/JustAnotherArchivist/snscrape"
   ]
  },
  {
   "cell_type": "code",
   "execution_count": null,
   "id": "9e251b62-2409-4897-92b2-21c0b8a359c7",
   "metadata": {},
   "outputs": [],
   "source": [
    "!pip install snscrape\n",
    "!pip install pandas\n",
    "!pip install seaborn"
   ]
  },
  {
   "cell_type": "markdown",
   "id": "fcf3f043-4c2c-4ddb-a301-71f6947862d8",
   "metadata": {},
   "source": [
    "Let's get some data for the twitter handle @thepennyhoarder"
   ]
  },
  {
   "cell_type": "code",
   "execution_count": null,
   "id": "010375e2-2bf1-4505-b076-c87ea530c75f",
   "metadata": {},
   "outputs": [],
   "source": [
    "!snscrape --max-results 100 --jsonl twitter-user SeeFunnyVideo > tweets.jsonl"
   ]
  },
  {
   "cell_type": "markdown",
   "id": "91c58aab-e1dd-4fc0-8468-db949068a24f",
   "metadata": {},
   "source": [
    "If we want images"
   ]
  },
  {
   "cell_type": "code",
   "execution_count": null,
   "id": "6f2e888a-dfad-4c9c-a7ac-ddfd171ca7bb",
   "metadata": {},
   "outputs": [],
   "source": [
    "!snscrape --max-results 100 --jsonl twitter-user tcabanski > tweets.jsonl"
   ]
  },
  {
   "cell_type": "markdown",
   "id": "27e0e126-e743-4378-95a6-e887523bd144",
   "metadata": {},
   "source": [
    "Run this command to dump the output.  Not recommended."
   ]
  },
  {
   "cell_type": "code",
   "execution_count": null,
   "id": "5e9fda7b-0139-4fb4-b36e-2a2b59cfe153",
   "metadata": {},
   "outputs": [],
   "source": [
    "more tweets.jsonl"
   ]
  },
  {
   "cell_type": "markdown",
   "id": "e7788314-2af1-40c9-b55b-89726248c9d6",
   "metadata": {},
   "source": [
    "Set displayMaxRows to None (displayMaxRows = None) to show all rows or use a number, like 10, to limit ouput (displayMaxRows = 10)"
   ]
  },
  {
   "cell_type": "code",
   "execution_count": null,
   "id": "927878ff-9b04-49de-a646-62d4f60b7fd7",
   "metadata": {},
   "outputs": [],
   "source": [
    "displayMaxRows = 10"
   ]
  },
  {
   "cell_type": "markdown",
   "id": "017f454a-00b8-41cf-84b1-baebe543ae4c",
   "metadata": {},
   "source": [
    "Parse tweets into a Pandas data set"
   ]
  },
  {
   "cell_type": "code",
   "execution_count": null,
   "id": "ed7ea712-f327-41da-a726-d292d476de51",
   "metadata": {},
   "outputs": [],
   "source": [
    "import json\n",
    "import pandas as pd\n",
    "\n",
    "with open('./tweets.jsonl', 'r') as json_file:\n",
    "    json_list = list(json_file)\n",
    "    \n",
    "output = pd.DataFrame()\n",
    "temp = []\n",
    "\n",
    "for json_str in json_list:\n",
    "    result = json.loads(json_str)\n",
    "    \n",
    "    isVideo = False\n",
    "    isImage = False\n",
    "    views = 0\n",
    "    media = result[\"media\"]\n",
    "    if (media is None) == False and len(media) > 0:\n",
    "        if media[0][\"_type\"] == \"snscrape.modules.twitter.Video\":\n",
    "            isVideo = True\n",
    "            views = media[0][\"views\"]\n",
    "        elif media[0][\"_type\"] == \"snscrape.modules.twitter.Photo\":\n",
    "            isImage = True\n",
    "        \n",
    "    record = {\n",
    "        \"tweetId\": result[\"id\"],\n",
    "        \"tweetDate\": result[\"date\"],\n",
    "        \"replies\": result[\"replyCount\"],\n",
    "        \"retweets\": result[\"retweetCount\"],\n",
    "        \"likes\": result[\"likeCount\"],\n",
    "        \"quotes\": result[\"quoteCount\"],\n",
    "        \"source\": result[\"sourceLabel\"],\n",
    "        \"isVideo\": isVideo,\n",
    "        \"isImage\": isImage,\n",
    "        \"videoViews\": views\n",
    "    }\n",
    "    \n",
    "    temp.append(record)\n",
    "\n",
    "output = pd.DataFrame(temp)\n",
    "\n",
    "with pd.option_context('display.max_rows', displayMaxRows,):\n",
    "    display(output)"
   ]
  },
  {
   "cell_type": "code",
   "execution_count": null,
   "id": "edb1c8e7-298b-4700-9bab-77e6d0880d3d",
   "metadata": {},
   "outputs": [],
   "source": []
  }
 ],
 "metadata": {
  "kernelspec": {
   "display_name": "Python 3 (ipykernel)",
   "language": "python",
   "name": "python3"
  },
  "language_info": {
   "codemirror_mode": {
    "name": "ipython",
    "version": 3
   },
   "file_extension": ".py",
   "mimetype": "text/x-python",
   "name": "python",
   "nbconvert_exporter": "python",
   "pygments_lexer": "ipython3",
   "version": "3.10.2"
  }
 },
 "nbformat": 4,
 "nbformat_minor": 5
}
