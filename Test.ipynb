{
 "cells": [
  {
   "cell_type": "markdown",
   "id": "291b76f7-1817-41e3-920e-6e9720d528ba",
   "metadata": {},
   "source": [
    "__Initialization__\n",
    "\n",
    "Assumes Python 3\n",
    "\n",
    "---------------- Only run once on the machine to get things configured -------------------\n"
   ]
  },
  {
   "cell_type": "code",
   "execution_count": null,
   "id": "dc1d65e8-ecfc-4645-a617-30bd58eae4fe",
   "metadata": {},
   "outputs": [],
   "source": [
    "!echo 'This could take awhile. Status at bottom will show idle when done.'\n",
    "!git clone https://github.com/JustAnotherArchivist/snscrape\n",
    "!echo done"
   ]
  },
  {
   "cell_type": "code",
   "execution_count": null,
   "id": "9e251b62-2409-4897-92b2-21c0b8a359c7",
   "metadata": {},
   "outputs": [],
   "source": [
    "!echo 'This could take awhile. Status at bottom will show idle when done.'\n",
    "!pip install snscrape\n",
    "!pip install pandas\n",
    "!pip install seaborn\n",
    "!echo done"
   ]
  },
  {
   "cell_type": "markdown",
   "id": "fcf3f043-4c2c-4ddb-a301-71f6947862d8",
   "metadata": {},
   "source": [
    "---------------------------- Below here can be run multiple times --------------------------------"
   ]
  },
  {
   "cell_type": "markdown",
   "id": "017f454a-00b8-41cf-84b1-baebe543ae4c",
   "metadata": {},
   "source": [
    "__Parse tweets into a Pandas data set__\n",
    "\n",
    "Have to run this before trying to prepare the dataset for plotting or plotting.\n",
    "\n",
    "Parameters\n",
    "\n",
    "* Set displayMaxRows to None (displayMaxRows = None) to show all rows or use a number, like 10, to limit ouput (displayMaxRows = 10)\n",
    "* Set maxResults to None if you want all tweets or limit by setting a number\n",
    "* Set since to None for all dates or use YYYY-MM-DD format to get all tweets since that date"
   ]
  },
  {
   "cell_type": "code",
   "execution_count": null,
   "id": "ed7ea712-f327-41da-a726-d292d476de51",
   "metadata": {},
   "outputs": [],
   "source": [
    "import json\n",
    "import pandas\n",
    "\n",
    "# Parameters\n",
    "displayMaxRows = 10\n",
    "maxResults = None\n",
    "since = '2020-01-01'\n",
    "twitterUser = 'atrupar'\n",
    "\n",
    "temp = []\n",
    "\n",
    "if maxResults is None:\n",
    "    maxResultsParam = ''\n",
    "else:\n",
    "    maxResultsParam = f'--max-results {maxResults}'\n",
    "    \n",
    "if since is None:\n",
    "    sinceParam = ''\n",
    "else:\n",
    "    sinceParam = f'--since {since}'\n",
    "    \n",
    "print(f'Running: snscrape {maxResultsParam} --jsonl {sinceParam} twitter-user {twitterUser}')\n",
    "print('This can take awhile. The status bar at the bottom of the screen will say Busy until this is done.')\n",
    "\n",
    "results  = !snscrape {maxResultsParam} --jsonl {sinceParam} twitter-user {twitterUser}\n",
    "\n",
    "print('Done scraping Twitter')\n",
    "\n",
    "for json_str in results:\n",
    "    result = json.loads(json_str)\n",
    "    \n",
    "    isVideo = False\n",
    "    isImage = False\n",
    "    mediaType = 'None'\n",
    "    views = 0\n",
    "    media = result['media']\n",
    "    if (media is None) == False and len(media) > 0:\n",
    "        if media[0]['_type'] == 'snscrape.modules.twitter.Photo':\n",
    "            isImage = True\n",
    "            mediaType = 'Image'\n",
    "        elif media[0]['_type'] == 'snscrape.modules.twitter.Video':\n",
    "            isVideo = True\n",
    "            mediaType = 'Video'\n",
    "            views = media[0]['views']\n",
    "            \n",
    "    totalEngagement =  result['replyCount'] + result['retweetCount'] + result['likeCount'] + result['quoteCount']\n",
    "    totalEnagementWithVideoViews = totalEngagement + views\n",
    "        \n",
    "    record = {\n",
    "        'TweetId': result['id'],\n",
    "        'TweetDate': result['date'],\n",
    "        'Replies': result['replyCount'],\n",
    "        'Retweets': result['retweetCount'],\n",
    "        'Likes': result['likeCount'],\n",
    "        'Quotes': result['quoteCount'],\n",
    "        'Source': result['sourceLabel'],\n",
    "        'IsVideo': isVideo,\n",
    "        'IsImage': isImage,\n",
    "        'VideoViews': views,\n",
    "        'MediaType': mediaType,\n",
    "        'TotalEngagement':totalEngagement,\n",
    "        'TotalEngagementWithVideoViews':totalEnagementWithVideoViews\n",
    "    }\n",
    "    \n",
    "    temp.append(record)\n",
    "\n",
    "output = pandas.DataFrame(temp)\n",
    "\n",
    "# Put TweetDate into proper date format\n",
    "output['TweetDate'] = pandas.to_datetime(output['TweetDate'])\n",
    "\n",
    "with pandas.option_context('display.max_rows', displayMaxRows,):\n",
    "    display(output)"
   ]
  },
  {
   "cell_type": "markdown",
   "id": "72ff49f4-3746-4328-92b4-7484b7fce091",
   "metadata": {},
   "source": [
    "Output the tweet data to a CSV"
   ]
  },
  {
   "cell_type": "code",
   "execution_count": null,
   "id": "33fd0963-825b-4818-afd8-19ec596e85ba",
   "metadata": {},
   "outputs": [],
   "source": [
    "fileName='output.csv'\n",
    "output.to_csv(fileName)\n",
    "print('File created')"
   ]
  },
  {
   "cell_type": "markdown",
   "id": "fac77957-f633-4fba-b0df-954dfb999d70",
   "metadata": {},
   "source": [
    "PLOT: Total engagement scatter with colors by media type"
   ]
  },
  {
   "cell_type": "code",
   "execution_count": null,
   "id": "e41d2592-446b-47c4-8bbb-3fc3ee9b639a",
   "metadata": {},
   "outputs": [],
   "source": [
    "import seaborn\n",
    "import matplotlib.pyplot as plt\n",
    "    \n",
    "seaborn.set(style='whitegrid')\n",
    "plt.figure(figsize=(20, 5))\n",
    "\n",
    "outputGrouped = output.groupby(['MediaType', pandas.Grouper(key='TweetDate', freq='W-MON')]).agg({'TotalEngagement':'sum','TotalEngagementWithVideoViews':'sum'}).reset_index().sort_values('TweetDate')\n",
    "with pandas.option_context('display.max_rows', displayMaxRows,):\n",
    "    display(output)\n",
    "\n",
    "scatter = seaborn.scatterplot(x='TweetDate', y='TotalEngagement', hue = 'MediaType', data=outputGrouped).set(title='Total Enagement')\n",
    "plt.legend(loc='upper right', bbox_to_anchor=(1.2, 1))"
   ]
  },
  {
   "cell_type": "markdown",
   "id": "7d5f5bf3-7585-462f-aa3d-3ed791da2568",
   "metadata": {},
   "source": [
    "PLOT: Total engagement scatter with colors by media type on a log scale"
   ]
  },
  {
   "cell_type": "code",
   "execution_count": null,
   "id": "0bba896f-f28a-450d-b5d2-1d517a9cee79",
   "metadata": {},
   "outputs": [],
   "source": [
    "import seaborn\n",
    "import matplotlib.pyplot as plt\n",
    "    \n",
    "seaborn.set(style='whitegrid')\n",
    "plt.figure(figsize=(20, 5))\n",
    "\n",
    "outputGrouped = output.groupby(['MediaType', pandas.Grouper(key='TweetDate', freq='W-MON')]).agg({'TotalEngagement':'sum','TotalEngagementWithVideoViews':'sum'}).reset_index().sort_values('TweetDate')\n",
    "with pandas.option_context('display.max_rows', displayMaxRows,):\n",
    "    display(output)\n",
    "\n",
    "scatter = seaborn.scatterplot(x='TweetDate', y='TotalEngagement', hue = 'MediaType', data=outputGrouped).set(title='Total Enagement (Log scale)', yscale='log')\n",
    "plt.legend(loc='upper right', bbox_to_anchor=(1.2, 1))"
   ]
  },
  {
   "cell_type": "markdown",
   "id": "365ac855-beb6-466c-ac11-6f8200764930",
   "metadata": {},
   "source": [
    "PLOT: Total engagement including video views scatter with colors by media type on a log scale"
   ]
  },
  {
   "cell_type": "code",
   "execution_count": null,
   "id": "433d88d0-006d-4acd-942f-02095415f48e",
   "metadata": {},
   "outputs": [],
   "source": [
    "import seaborn\n",
    "import matplotlib.pyplot as plt\n",
    "    \n",
    "seaborn.set(style='whitegrid')\n",
    "plt.figure(figsize=(20, 5))\n",
    "\n",
    "outputGrouped = output.groupby(['MediaType', pandas.Grouper(key='TweetDate', freq='W-MON')]).agg({'TotalEngagement':'sum','TotalEngagementWithVideoViews':'sum'}).reset_index().sort_values('TweetDate')\n",
    "with pandas.option_context('display.max_rows', displayMaxRows,):\n",
    "    display(output)\n",
    "\n",
    "scatter = seaborn.scatterplot(x='TweetDate', y='TotalEngagementWithVideoViews', hue = 'MediaType', data=outputGrouped).set(title='Total Enagement with Video Views (Log scale)', yscale='log')\n",
    "plt.legend(loc='upper right', bbox_to_anchor=(1.2, 1))"
   ]
  },
  {
   "cell_type": "markdown",
   "id": "04c8593a-947d-4afa-bd99-4df34647056b",
   "metadata": {},
   "source": [
    "PLOT: Total engagement scatter with colors by source"
   ]
  },
  {
   "cell_type": "code",
   "execution_count": null,
   "id": "be7a8d30-d8cc-4bd9-baaf-6107dac4e901",
   "metadata": {},
   "outputs": [],
   "source": [
    "import seaborn\n",
    "import matplotlib.pyplot as plt\n",
    "    \n",
    "seaborn.set(style='whitegrid')\n",
    "plt.figure(figsize=(20, 5))\n",
    "\n",
    "outputGrouped = output.groupby(['Source', pandas.Grouper(key='TweetDate', freq='W-MON')]).agg({'TotalEngagement':'sum','TotalEngagementWithVideoViews':'sum'}).reset_index().sort_values('TweetDate')\n",
    "with pandas.option_context('display.max_rows', displayMaxRows,):\n",
    "    display(output)\n",
    "\n",
    "scatter = seaborn.scatterplot(x='TweetDate', y='TotalEngagement', hue = 'Source', data=outputGrouped).set(title='Total Enagement by Source')\n",
    "plt.legend(loc='upper right', bbox_to_anchor=(1.2, 1))"
   ]
  },
  {
   "cell_type": "markdown",
   "id": "b09df46f-d5e4-47c9-98c1-914ea65fb9e4",
   "metadata": {},
   "source": [
    "PLOT: Total engagement scatter with colors by source on a log scale"
   ]
  },
  {
   "cell_type": "code",
   "execution_count": null,
   "id": "c19fae87-d316-4ae8-ba37-b55d8180096e",
   "metadata": {},
   "outputs": [],
   "source": [
    "import seaborn\n",
    "import matplotlib.pyplot as plt\n",
    "    \n",
    "seaborn.set(style='whitegrid')\n",
    "plt.figure(figsize=(20, 5))\n",
    "\n",
    "outputGrouped = output.groupby(['Source', pandas.Grouper(key='TweetDate', freq='W-MON')]).agg({'TotalEngagement':'sum','TotalEngagementWithVideoViews':'sum'}).reset_index().sort_values('TweetDate')\n",
    "with pandas.option_context('display.max_rows', displayMaxRows,):\n",
    "    display(output)\n",
    "\n",
    "scatter = seaborn.scatterplot(x='TweetDate', y='TotalEngagement', hue = 'Source', data=outputGrouped).set(title='Total Enagement by Source (Log scale)', yscale='log')\n",
    "plt.legend(loc='upper right', bbox_to_anchor=(1.2, 1))"
   ]
  },
  {
   "cell_type": "markdown",
   "id": "8573f0d7-2370-47df-b7d5-627ad97d8df5",
   "metadata": {},
   "source": [
    "PLOT: Total engagement including video views scatter with colors by source on a log scale"
   ]
  },
  {
   "cell_type": "code",
   "execution_count": null,
   "id": "85cf3052-437b-48ce-9f90-b29a69ab566c",
   "metadata": {},
   "outputs": [],
   "source": [
    "import seaborn\n",
    "import matplotlib.pyplot as plt\n",
    "    \n",
    "seaborn.set(style='whitegrid')\n",
    "plt.figure(figsize=(20, 5))\n",
    "\n",
    "outputGrouped = output.groupby(['Source', pandas.Grouper(key='TweetDate', freq='W-MON')]).agg({'TotalEngagement':'sum','TotalEngagementWithVideoViews':'sum'}).reset_index().sort_values('TweetDate')\n",
    "with pandas.option_context('display.max_rows', displayMaxRows,):\n",
    "    display(output)\n",
    "\n",
    "scatter = seaborn.scatterplot(x='TweetDate', y='TotalEngagementWithVideoViews', hue = 'Source', data=outputGrouped).set(title='Total Enagement by Source with Video Views (Log scale)', yscale='log')\n",
    "plt.legend(loc='upper right', bbox_to_anchor=(1.2, 1))"
   ]
  }
 ],
 "metadata": {
  "kernelspec": {
   "display_name": "Python 3 (ipykernel)",
   "language": "python",
   "name": "python3"
  },
  "language_info": {
   "codemirror_mode": {
    "name": "ipython",
    "version": 3
   },
   "file_extension": ".py",
   "mimetype": "text/x-python",
   "name": "python",
   "nbconvert_exporter": "python",
   "pygments_lexer": "ipython3",
   "version": "3.10.2"
  }
 },
 "nbformat": 4,
 "nbformat_minor": 5
}
