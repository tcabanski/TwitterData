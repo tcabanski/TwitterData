{
 "cells": [
  {
   "cell_type": "markdown",
   "id": "291b76f7-1817-41e3-920e-6e9720d528ba",
   "metadata": {},
   "source": [
    "__Initialization__\n",
    "\n",
    "Only run once on the machine"
   ]
  },
  {
   "cell_type": "code",
   "execution_count": null,
   "id": "dc1d65e8-ecfc-4645-a617-30bd58eae4fe",
   "metadata": {},
   "outputs": [],
   "source": [
    "!echo \"This could take awhile. Status at bottom will show idle when done.\"\n",
    "!git clone https://github.com/JustAnotherArchivist/snscrape\n",
    "!echo done"
   ]
  },
  {
   "cell_type": "code",
   "execution_count": null,
   "id": "9e251b62-2409-4897-92b2-21c0b8a359c7",
   "metadata": {},
   "outputs": [],
   "source": [
    "!echo \"This could take awhile. Status at bottom will show idle when done.\"\n",
    "!pip install snscrape\n",
    "!pip install pandas\n",
    "!pip install seaborn\n",
    "!echo done"
   ]
  },
  {
   "cell_type": "markdown",
   "id": "fcf3f043-4c2c-4ddb-a301-71f6947862d8",
   "metadata": {},
   "source": [
    "Below here can be run multiple times\n",
    "\n",
    "Let's get some data from an account with a lot of video"
   ]
  },
  {
   "cell_type": "markdown",
   "id": "d22782ac-f646-4cd0-8e15-dad8bd3f0b4c",
   "metadata": {},
   "source": [
    "* --max-results to limit number of tweets (default is to get all)\n",
    "* --since to only grab tweets since a certain date\n",
    "* The twitter user is set just before the greater than (redirect to file)\n",
    "\n",
    "Complete example gets 10000 tweets since Jan 1, 2021 for user SeeFunnyVideo\n",
    "\n",
    "`!snscrape --max-results 10000 --since 20210101 --jsonl twitter-user --progress SeeFunnyVideo > tweets.jsonl`"
   ]
  },
  {
   "cell_type": "code",
   "execution_count": null,
   "id": "6f2e888a-dfad-4c9c-a7ac-ddfd171ca7bb",
   "metadata": {},
   "outputs": [],
   "source": [
    "!echo \"This could take awhile. Status at bottom will show idle when done.\"\n",
    "!snscrape --max-results 100 --jsonl --since 2021-01-01 twitter-user SeeFunnyVideo > tweets.jsonl\n",
    "!echo done"
   ]
  },
  {
   "cell_type": "markdown",
   "id": "27e0e126-e743-4378-95a6-e887523bd144",
   "metadata": {},
   "source": [
    "Run this command to dump the output.  Not recommended."
   ]
  },
  {
   "cell_type": "code",
   "execution_count": null,
   "id": "5e9fda7b-0139-4fb4-b36e-2a2b59cfe153",
   "metadata": {},
   "outputs": [],
   "source": [
    "more tweets.jsonl"
   ]
  },
  {
   "cell_type": "markdown",
   "id": "e7788314-2af1-40c9-b55b-89726248c9d6",
   "metadata": {},
   "source": [
    "Set displayMaxRows to None (displayMaxRows = None) to show all rows or use a number, like 10, to limit ouput (displayMaxRows = 10)"
   ]
  },
  {
   "cell_type": "code",
   "execution_count": null,
   "id": "927878ff-9b04-49de-a646-62d4f60b7fd7",
   "metadata": {},
   "outputs": [],
   "source": [
    "displayMaxRows = 10"
   ]
  },
  {
   "cell_type": "markdown",
   "id": "017f454a-00b8-41cf-84b1-baebe543ae4c",
   "metadata": {},
   "source": [
    "Parse tweets into a Pandas data set\n",
    "\n",
    "* Set maxResults to None if you want all tweets or limit by setting a number\n",
    "* Set since to None for all dates or use YYYY-MM-DD format to get all tweets since that date"
   ]
  },
  {
   "cell_type": "code",
   "execution_count": null,
   "id": "be0059b5-6611-48c4-b3ec-c9b4a6db5c8f",
   "metadata": {},
   "outputs": [],
   "source": [
    "maxResults = 100\n",
    "since = None\n",
    "twitterUser = \"SeeFunnyVideo\""
   ]
  },
  {
   "cell_type": "code",
   "execution_count": null,
   "id": "ed7ea712-f327-41da-a726-d292d476de51",
   "metadata": {},
   "outputs": [],
   "source": [
    "import json\n",
    "import pandas\n",
    "\n",
    "temp = []\n",
    "\n",
    "if maxResults is None:\n",
    "    maxResultsParam = \"\"\n",
    "else:\n",
    "    maxResultsParam = f\"--max-results {maxResults}\"\n",
    "    \n",
    "if since is None:\n",
    "    sinceParam = \"\"\n",
    "else:\n",
    "    sinceParam = f\"--since {since}\"\n",
    "    \n",
    "print(f\"Running: snscrape {maxResultsParam} --jsonl {sinceParam} twitter-user {twitterUser}\")\n",
    "print(\"This can take awhile. The status bar at the bottom of the screen will say Busy until this is done.\")\n",
    "\n",
    "results  = !snscrape {maxResultsParam} --jsonl {sinceParam} twitter-user {twitterUser}\n",
    "\n",
    "print(\"Done scraping Twitter\")\n",
    "\n",
    "for json_str in results:\n",
    "    result = json.loads(json_str)\n",
    "    \n",
    "    isVideo = False\n",
    "    isImage = False\n",
    "    mediaType = \"None\"\n",
    "    views = 0\n",
    "    media = result[\"media\"]\n",
    "    if (media is None) == False and len(media) > 0:\n",
    "        if media[0][\"_type\"] == \"snscrape.modules.twitter.Photo\":\n",
    "            isImage = True\n",
    "            mediaType = \"Image\"\n",
    "        elif media[0][\"_type\"] == \"snscrape.modules.twitter.Video\":\n",
    "            isVideo = True\n",
    "            mediaType = \"Video\"\n",
    "            views = media[0][\"views\"]\n",
    "        \n",
    "    record = {\n",
    "        \"tweetId\": result[\"id\"],\n",
    "        \"tweetDate\": result[\"date\"],\n",
    "        \"replies\": result[\"replyCount\"],\n",
    "        \"retweets\": result[\"retweetCount\"],\n",
    "        \"likes\": result[\"likeCount\"],\n",
    "        \"quotes\": result[\"quoteCount\"],\n",
    "        \"source\": result[\"sourceLabel\"],\n",
    "        \"isVideo\": isVideo,\n",
    "        \"isImage\": isImage,\n",
    "        \"videoViews\": views,\n",
    "        \"mediaType\": mediaType\n",
    "    }\n",
    "    \n",
    "    temp.append(record)\n",
    "\n",
    "output = pandas.DataFrame(temp)\n",
    "\n",
    "with pandas.option_context('display.max_rows', displayMaxRows,):\n",
    "    display(output)"
   ]
  },
  {
   "cell_type": "markdown",
   "id": "fac77957-f633-4fba-b0df-954dfb999d70",
   "metadata": {},
   "source": [
    "Prepare the dataset for the scatter plot"
   ]
  },
  {
   "cell_type": "code",
   "execution_count": null,
   "id": "e41d2592-446b-47c4-8bbb-3fc3ee9b639a",
   "metadata": {},
   "outputs": [],
   "source": [
    "output['tweetDate'] = pandas.to_datetime(output['tweetDate'])\n",
    "output = output.groupby(['mediaType', pandas.Grouper(key='tweetDate', freq='W-MON')])['retweets'].sum().reset_index().sort_values('tweetDate')\n",
    "with pandas.option_context('display.max_rows', displayMaxRows,):\n",
    "    display(output)"
   ]
  },
  {
   "cell_type": "markdown",
   "id": "21963f6e-1d43-4f7f-aa7c-4d4658678baa",
   "metadata": {},
   "source": [
    "Basic scatter plot"
   ]
  },
  {
   "cell_type": "code",
   "execution_count": null,
   "id": "de4d895f-1301-4722-9dec-df43d34f040a",
   "metadata": {},
   "outputs": [],
   "source": [
    "import seaborn\n",
    "import matplotlib.pyplot as plt\n",
    " \n",
    "seaborn.set(style='whitegrid')\n",
    "plt.figure(figsize=(20, 5))\n",
    " \n",
    "scatter = seaborn.scatterplot(x=\"tweetDate\", y=\"retweets\", hue = \"mediaType\", data=output)\n",
    "plt.legend(loc='upper right', bbox_to_anchor=(1.2, 1))"
   ]
  },
  {
   "cell_type": "markdown",
   "id": "13cc0674-9670-4c20-b544-bd05d1f57135",
   "metadata": {},
   "source": [
    "Scatter plt with log scale on Y"
   ]
  },
  {
   "cell_type": "code",
   "execution_count": null,
   "id": "761daa91-0f7d-44cb-8a1b-965181ba7fbc",
   "metadata": {},
   "outputs": [],
   "source": [
    "import seaborn\n",
    "import matplotlib.pyplot as plt\n",
    " \n",
    "seaborn.set(style='whitegrid')\n",
    "plt.figure(figsize=(20, 5))\n",
    " \n",
    "scatter = seaborn.scatterplot(x=\"tweetDate\", y=\"retweets\", hue = \"mediaType\", data=output)\n",
    "scatter.set(yscale='log')\n",
    "plt.legend(loc='upper right', bbox_to_anchor=(1.2, 1))"
   ]
  }
 ],
 "metadata": {
  "kernelspec": {
   "display_name": "Python 3 (ipykernel)",
   "language": "python",
   "name": "python3"
  },
  "language_info": {
   "codemirror_mode": {
    "name": "ipython",
    "version": 3
   },
   "file_extension": ".py",
   "mimetype": "text/x-python",
   "name": "python",
   "nbconvert_exporter": "python",
   "pygments_lexer": "ipython3",
   "version": "3.10.2"
  }
 },
 "nbformat": 4,
 "nbformat_minor": 5
}
